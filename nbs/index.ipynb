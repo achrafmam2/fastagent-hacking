{
 "cells": [
  {
   "cell_type": "code",
   "execution_count": null,
   "metadata": {},
   "outputs": [],
   "source": [
    "#| hide\n"
   ]
  },
  {
   "cell_type": "markdown",
   "metadata": {},
   "source": [
    "# fastassistant-hacking\n",
    "\n",
    "> Prototype for the Fast Assistant library"
   ]
  },
  {
   "cell_type": "markdown",
   "metadata": {},
   "source": [
    "## Developer Guide"
   ]
  },
  {
   "cell_type": "markdown",
   "metadata": {},
   "source": [
    "If you are new to using `nbdev` here are some useful pointers to get you started."
   ]
  },
  {
   "cell_type": "markdown",
   "metadata": {},
   "source": [
    "### Install fastagent_hacking in Development mode"
   ]
  },
  {
   "cell_type": "markdown",
   "metadata": {},
   "source": [
    "```sh\n",
    "# make sure fastagent_hacking package is installed in development mode\n",
    "$ pip install -e .\n",
    "\n",
    "# make changes under nbs/ directory\n",
    "# ...\n",
    "\n",
    "# compile to have changes apply to fastagent_hacking\n",
    "$ nbdev_prepare\n",
    "```"
   ]
  },
  {
   "cell_type": "markdown",
   "metadata": {},
   "source": [
    "## Usage"
   ]
  },
  {
   "cell_type": "markdown",
   "metadata": {},
   "source": [
    "### Installation"
   ]
  },
  {
   "cell_type": "markdown",
   "metadata": {},
   "source": [
    "Install latest from the GitHub [repository][repo]:\n",
    "\n",
    "```sh\n",
    "$ pip install git+https://github.com/achrafmam2/fastagent-hacking.git\n",
    "```\n",
    "\n",
    "[repo]: https://github.com/achrafmam2/fastagent-hacking\n",
    "[docs]: https://achrafmam2.github.io/fastagent-hacking/"
   ]
  },
  {
   "cell_type": "markdown",
   "metadata": {},
   "source": [
    "### Documentation"
   ]
  },
  {
   "cell_type": "markdown",
   "metadata": {},
   "source": [
    "Documentation can be found hosted on this GitHub [repository][repo]'s [pages][docs].\n",
    "\n",
    "[repo]: https://github.com/achrafmam2/fastagent-hacking\n",
    "[docs]: https://achrafmam2.github.io/fastagent-hacking/"
   ]
  },
  {
   "cell_type": "markdown",
   "metadata": {},
   "source": [
    "## How to use"
   ]
  },
  {
   "cell_type": "code",
   "execution_count": null,
   "metadata": {},
   "outputs": [],
   "source": [
    "#| hide\n",
    "\n",
    "import dotenv\n",
    "import time\n",
    "import builtins"
   ]
  },
  {
   "cell_type": "code",
   "execution_count": null,
   "metadata": {},
   "outputs": [
    {
     "data": {
      "text/plain": [
       "True"
      ]
     },
     "execution_count": null,
     "metadata": {},
     "output_type": "execute_result"
    }
   ],
   "source": [
    "#| hide\n",
    "\n",
    "dotenv.load_dotenv()"
   ]
  },
  {
   "cell_type": "code",
   "execution_count": null,
   "metadata": {},
   "outputs": [],
   "source": [
    "#| hide\n",
    "\n",
    "\n",
    "class TruncatedPrint:\n",
    "\n",
    "  def __init__(self, max_chars: int):\n",
    "    self._max_chars = max_chars\n",
    "    self._num_printed = 0\n",
    "\n",
    "  def print(self, *args, sep=' ', end='\\n'):\n",
    "    if self._num_printed >= self._max_chars:\n",
    "      return\n",
    "\n",
    "    text = sep.join(map(str, args)) + end\n",
    "    remaining = self._max_chars - self._num_printed\n",
    "\n",
    "    if len(text) > remaining:\n",
    "      builtins.print(text[:remaining] + '...', end='')\n",
    "    else:\n",
    "      builtins.print(text, end='')\n",
    "\n",
    "    self._num_printed += min(len(text), remaining)\n",
    "\n",
    "  def reset(self):\n",
    "    self._num_printed = 0\n"
   ]
  },
  {
   "cell_type": "code",
   "execution_count": null,
   "metadata": {},
   "outputs": [],
   "source": [
    "#| hide\n",
    "\n",
    "tp = TruncatedPrint(max_chars=200)\n",
    "tprint = tp.print"
   ]
  },
  {
   "cell_type": "code",
   "execution_count": null,
   "metadata": {},
   "outputs": [],
   "source": [
    "from fastagent_hacking import llms\n",
    "\n",
    "llm = llms.OpenaiAPI(model=\"gpt-4o-mini\")"
   ]
  },
  {
   "cell_type": "code",
   "execution_count": null,
   "metadata": {},
   "outputs": [
    {
     "name": "stdout",
     "output_type": "stream",
     "text": [
      "Claude Monet (1840–1926) was a French painter and a key figure in the Impressionist movement, which revolutionized the art world in the late 19th century. Monet is best known for his use of light and ..."
     ]
    }
   ],
   "source": [
    "# Query the model.\n",
    "msg = await llm.chat([\"Who is Monet\"])\n",
    "tprint(msg.content)"
   ]
  },
  {
   "cell_type": "markdown",
   "metadata": {},
   "source": [
    "`tprint` is a truncated print that only prints up to 200 characters within a cell."
   ]
  },
  {
   "cell_type": "code",
   "execution_count": null,
   "metadata": {},
   "outputs": [],
   "source": [
    "#| hide\n",
    "\n",
    "tp.reset()"
   ]
  },
  {
   "cell_type": "code",
   "execution_count": null,
   "metadata": {},
   "outputs": [
    {
     "name": "stdout",
     "output_type": "stream",
     "text": [
      "Monet typically refers to Claude Monet, a French painter who is one of the founders of Impressionism, a movement that revolutionized Western painting in the late 19th century. Born on November 14, 184"
     ]
    }
   ],
   "source": [
    "# Now stream the answer.\n",
    "async for chunk in llm.chat.stream([\"Who is Monet\"]):\n",
    "  tprint(chunk.content, end=\"\")"
   ]
  },
  {
   "cell_type": "code",
   "execution_count": null,
   "metadata": {},
   "outputs": [],
   "source": [
    "tp.reset()"
   ]
  },
  {
   "cell_type": "code",
   "execution_count": null,
   "metadata": {},
   "outputs": [
    {
     "name": "stdout",
     "output_type": "stream",
     "text": [
      "Ode to the Sea\n",
      "\n",
      "O vast and mighty Queen, whose breath is storm,  \n",
      "With tempestuous heart and spirit divine!  \n",
      "Thou cradle of the lost, where shadows swarm,  \n",
      "Enigma wrapped in foamy, azure line.\n",
      "\n",
      "In t...\n",
      "\n",
      "Time taken: 6.695709943771362\n"
     ]
    }
   ],
   "source": [
    "start = time.time()\n",
    "\n",
    "hugo_poem = llm.chat.stream(\n",
    "    [\"In the style of Victor Hugo, write a poem about the sea.\"])\n",
    "shakespear_poem = llm.chat.stream(\n",
    "    [\"In the sytle of Shakespeare, write a poem about the sea.\"])\n",
    "\n",
    "# Run the two streams in parallel, but print them in order.\n",
    "poems = hugo_poem + shakespear_poem\n",
    "\n",
    "async for chunk in poems:\n",
    "  tprint(chunk.content, end='')\n",
    "\n",
    "print(\"\\n\\nTime taken:\", time.time() - start)"
   ]
  },
  {
   "cell_type": "code",
   "execution_count": null,
   "metadata": {},
   "outputs": [],
   "source": [
    "#| hide\n",
    "\n",
    "tp.reset()"
   ]
  },
  {
   "cell_type": "code",
   "execution_count": null,
   "metadata": {},
   "outputs": [
    {
     "name": "stdout",
     "output_type": "stream",
     "text": [
      "**The Sea’s Lament**\n",
      "\n",
      "Oh, vast expanse of azure endlessness,  \n",
      "Where tempest's fury kisses tranquil dawn,  \n",
      "Thy waves, like tortured souls, in ceaseless press,  \n",
      "Rise bold and proud ere they forever y\n",
      "\n",
      "Time taken: 12.3143470287323\n"
     ]
    }
   ],
   "source": [
    "# In constract to the above, this will run the two streams sequentially.\n",
    "\n",
    "start = time.time()\n",
    "\n",
    "hugo_poem = llm.chat.stream(\n",
    "    [\"In the style of Victor Hugo, write a poem about the sea.\"])\n",
    "async for chunk in hugo_poem:\n",
    "  tprint(chunk.content, end=\"\")\n",
    "\n",
    "shakespear_poem = llm.chat.stream(\n",
    "    [\"In the sytle of Shakespeare, write a poem about the sea.\"])\n",
    "async for chunk in shakespear_poem:\n",
    "  tprint(chunk.content, end=\"\")\n",
    "\n",
    "print(\"\\n\\nTime taken:\", time.time() - start)"
   ]
  },
  {
   "cell_type": "code",
   "execution_count": null,
   "metadata": {},
   "outputs": [],
   "source": []
  }
 ],
 "metadata": {
  "kernelspec": {
   "display_name": "python3",
   "language": "python",
   "name": "python3"
  }
 },
 "nbformat": 4,
 "nbformat_minor": 4
}
