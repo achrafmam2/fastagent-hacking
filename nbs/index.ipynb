{
 "cells": [
  {
   "cell_type": "code",
   "execution_count": null,
   "metadata": {},
   "outputs": [],
   "source": [
    "#| hide\n"
   ]
  },
  {
   "cell_type": "markdown",
   "metadata": {},
   "source": [
    "# fastassistant-hacking\n",
    "\n",
    "> Prototype for the Fast Assistant library"
   ]
  },
  {
   "cell_type": "markdown",
   "metadata": {},
   "source": [
    "## Developer Guide"
   ]
  },
  {
   "cell_type": "markdown",
   "metadata": {},
   "source": [
    "If you are new to using `nbdev` here are some useful pointers to get you started."
   ]
  },
  {
   "cell_type": "markdown",
   "metadata": {},
   "source": [
    "### Install fastagent_hacking in Development mode"
   ]
  },
  {
   "cell_type": "markdown",
   "metadata": {},
   "source": [
    "```sh\n",
    "# make sure fastagent_hacking package is installed in development mode\n",
    "$ pip install -e .\n",
    "\n",
    "# make changes under nbs/ directory\n",
    "# ...\n",
    "\n",
    "# compile to have changes apply to fastagent_hacking\n",
    "$ nbdev_prepare\n",
    "```"
   ]
  },
  {
   "cell_type": "markdown",
   "metadata": {},
   "source": [
    "## Usage"
   ]
  },
  {
   "cell_type": "markdown",
   "metadata": {},
   "source": [
    "### Installation"
   ]
  },
  {
   "cell_type": "markdown",
   "metadata": {},
   "source": [
    "Install latest from the GitHub [repository][repo]:\n",
    "\n",
    "```sh\n",
    "$ pip install git+https://github.com/achrafmam2/fastagent-hacking.git\n",
    "```\n",
    "\n",
    "[repo]: https://github.com/achrafmam2/fastagent-hacking\n",
    "[docs]: https://achrafmam2.github.io/fastagent-hacking/"
   ]
  },
  {
   "cell_type": "markdown",
   "metadata": {},
   "source": [
    "### Documentation"
   ]
  },
  {
   "cell_type": "markdown",
   "metadata": {},
   "source": [
    "Documentation can be found hosted on this GitHub [repository][repo]'s [pages][docs].\n",
    "\n",
    "[repo]: https://github.com/achrafmam2/fastagent-hacking\n",
    "[docs]: https://achrafmam2.github.io/fastagent-hacking/"
   ]
  },
  {
   "cell_type": "markdown",
   "metadata": {},
   "source": [
    "## How to use"
   ]
  },
  {
   "cell_type": "code",
   "execution_count": null,
   "metadata": {},
   "outputs": [
    {
     "data": {
      "text/plain": [
       "True"
      ]
     },
     "execution_count": null,
     "metadata": {},
     "output_type": "execute_result"
    }
   ],
   "source": [
    "import dotenv\n",
    "dotenv.load_dotenv()"
   ]
  },
  {
   "cell_type": "code",
   "execution_count": null,
   "metadata": {},
   "outputs": [],
   "source": [
    "from fastagent_hacking import llms\n",
    "\n",
    "llm = llms.OpenaiAPI(model=\"gpt-4o-mini\")"
   ]
  },
  {
   "cell_type": "code",
   "execution_count": null,
   "metadata": {},
   "outputs": [
    {
     "name": "stdout",
     "output_type": "stream",
     "text": [
      "Monet refers primarily to Claude Monet (1840–1926), a French painter and a key figure in the Impressionist movement. He is renowned for his emphasis on capturing light and its changing qualities, often through the use of loose brushwork and vibrant colors. Some of his most famous works include \"Water Lilies,\" \"Impression, Sunrise,\" and \"Woman with a Parasol.\"\n",
      "\n",
      "The Impressionist movement marked a significant departure from traditional painting practices, focusing on scenes of everyday life and the effects of natural light. Monet's approach has had a lasting influence on the development of modern art. Besides Claude Monet, the term \"monet\" in other contexts could relate to art or finance, but the artist is the most prominent figure associated with the name.\n"
     ]
    }
   ],
   "source": [
    "# Query the model.\n",
    "msg = await llm.chat([\"Who is Monet\"])\n",
    "print(msg.content)"
   ]
  },
  {
   "cell_type": "code",
   "execution_count": null,
   "metadata": {},
   "outputs": [
    {
     "name": "stdout",
     "output_type": "stream",
     "text": [
      "Claude Monet was a French painter and one of the founding figures of Impressionism, a movement characterized by its emphasis on capturing light and natural forms. Born on November 14, 1840, Monet's work is known for its vivid color, loose brushwork, and focus on capturing the effects of light at different times of day. Some of his most famous works include \"Impression, Sunrise,\" which gave the Impressionist movement its name, as well as series such as \"Water Lilies,\" \"Haystacks,\" and \"The Japanese Bridge.\"\n",
      "\n",
      "Monet's innovative approach to painting marked a departure from traditional techniques, emphasizing the subjective experience of perception over realistic representation. He passed away on December 5, 1926, but his influence on modern art continues to be profound, inspiring countless artists and movements."
     ]
    }
   ],
   "source": [
    "# Now stream the answer.\n",
    "async for chunk in llm.chat.stream([\"Who is Monet\"]):\n",
    "  print(chunk.content, end=\"\")"
   ]
  },
  {
   "cell_type": "code",
   "execution_count": null,
   "metadata": {},
   "outputs": [
    {
     "name": "stdout",
     "output_type": "stream",
     "text": [
      "**Lament of the Abyss**\n",
      "\n",
      "O vast expanse, thy azure heart displayed,  \n",
      "Unfathomed depths where dreams and nightmares wade,  \n",
      "Thou art the cradle of a thousand sighs,  \n",
      "Where time and tide weave tales beneath the skies.  \n",
      "\n",
      "Upon thy breast, the rapture and the woe,  \n",
      "The ships like swans in balmy ebb and flow,  \n",
      "They dance, they glide, with hopes unfurling wide,  \n",
      "Yet in thy depths, what shadows do abide?  \n",
      "\n",
      "Thou tempest's whisper, both fierce and divine,  \n",
      "Enchantress of sailors, with your darkened line,  \n",
      "In storms, thou roar with fury, wrath untamed,  \n",
      "And in thy calm, the heavens are proclaimed.  \n",
      "\n",
      "O shipwrecked dreams, where mariners lay dead,  \n",
      "Beneath thy waves, the tales of grief are spread;  \n",
      "Each crest a soldier, each trough a tomb,  \n",
      "In liquid silence, thou dost cradle gloom.  \n",
      "\n",
      "Yet in thy depths, where sun and moon conspire,  \n",
      "The dance of light ignites the soul's desire;  \n",
      "Shimmering secrets hidden from the eye—  \n",
      "A world that breathes while mortals dream and die.  \n",
      "\n",
      "Thou art both cradle and sepulchre,  \n",
      "A mirror for our hearts, deep, dark, and pure;  \n",
      "In thy embrace the wanderer's spirit roams,  \n",
      "A thirst for truth, a yearning to be home.  \n",
      "\n",
      "O mighty sea, thou paradox of grace,  \n",
      "With every wave, thou giveth and erase;  \n",
      "Our hopes set sail upon thy boundless tide,  \n",
      "In thee, the essence of our souls confide.  \n",
      "\n",
      "Thus let us stand upon thy shores, and muse,  \n",
      "For in thy depths reside the paths we choose;  \n",
      "A symphony of sorrow, joy, and peace—  \n",
      "In thee, O sea, our vast lives find release.\n",
      " ===================================\n",
      "Upon the rolling bosom of the deep,  \n",
      "Where waves do dance in light and shadows play,  \n",
      "The ocean sings a lullaby so sweet,  \n",
      "Its voice a whisper in the break of day.  \n",
      "\n",
      "Oh, vast expanse, where azure meets the sky,  \n",
      "Thou art a canvas painted by the stars,  \n",
      "A realm where tempest's fierce and calm's soft sigh  \n",
      "Blend harmonies, like lovers lost in jars.  \n",
      "\n",
      "Thy tides, like fortunes, ebbs and flows with fate,  \n",
      "In depths unknown, where sun doth fear to tread,  \n",
      "A siren's song may lead the bold to wait,  \n",
      "Or drown the hearts of those who dare to thread.  \n",
      "\n",
      "Let sailors brave thy treasures and thy woe,  \n",
      "For in thy arms, the secrets of the world,  \n",
      "Are cradled deep, where ancient spirits go,  \n",
      "And tales of yore in whispered winds are swirled.  \n",
      "\n",
      "O sea! Thy beauty fierce, thy heart so grand,  \n",
      "A paradox, both gentle and severe,  \n",
      "In every grain of sand and every strand,  \n",
      "Thou art both friend and foe, both near and dear.  \n",
      "\n",
      "So let me stand upon thy shores so wide,  \n",
      "And listen as thy stories rise and fall,  \n",
      "In every wave, a mystery to bide,  \n",
      "In every breeze, a lover’s mournful call.  \n",
      "\n",
      "Thus, let us raise our cups unto the tide,  \n",
      "Embrace the sea, with all its might and grace,  \n",
      "For in its depths, the dreams of man abide,  \n",
      "And in its waves, the soul finds its true place.\n",
      " ===================================\n",
      "Time taken: 6.380543947219849\n"
     ]
    }
   ],
   "source": [
    "import time\n",
    "\n",
    "start = time.time()\n",
    "\n",
    "vh = llm.chat.stream(\n",
    "    [\"In the style of Victor Hugo, write a poem about the sea.\"])\n",
    "sh = llm.chat.stream(\n",
    "    [\"In the sytle of Shakespeare, write a poem about the sea.\"])\n",
    "\n",
    "# Run the two streams in parallel, but print them in order.\n",
    "out = vh + sh\n",
    "\n",
    "async for chunk in out:\n",
    "  if chunk.end:\n",
    "    print(\"\\n\", \"=\" * 35)\n",
    "  print(chunk.content, end=\"\")\n",
    "\n",
    "print(\"Time taken:\", time.time() - start)"
   ]
  },
  {
   "cell_type": "code",
   "execution_count": null,
   "metadata": {},
   "outputs": [
    {
     "name": "stdout",
     "output_type": "stream",
     "text": [
      "**The Whispers of the Abyss**\n",
      "\n",
      "Oh vast expanse, in azure drapery drawn,  \n",
      "Where heavens stretch their limbs, a liquid morn,  \n",
      "Thou art both cradle and the tempest's fawn,  \n",
      "In thy embrace, a million dreams are born.  \n",
      "\n",
      "Thy waves do dance like sirens in the night,  \n",
      "Glistening pearls upon a silver tongue,  \n",
      "With every crash, they summon lost delight,  \n",
      "A symphony of sorrows long unsung.  \n",
      "\n",
      "Behold the ships, those fragile wooden wings,  \n",
      "They brave thy wrath, thy laughter and thy tears,  \n",
      "Through tempests fierce, while seagulls cry and sing,  \n",
      "They chart the course of longing, hopes, and fears.  \n",
      "\n",
      "What secrets lie in thy enchanted deep?  \n",
      "What treasures sleep beyond the mortal eye?  \n",
      "Each fathom holds a tale for thee to keep,  \n",
      "A shipwrecked heart, a lover’s mournful sigh.  \n",
      "\n",
      "Oh, how thy tides do mirror human plight,  \n",
      "Ebbing and flowing like the pulse of time,  \n",
      "In thee, the sun descends, a gilded light,  \n",
      "While shadows rise to paint the world sublime.  \n",
      "\n",
      "Thou art a mirror to the soul’s great quest,  \n",
      "Majestic, wild, a melancholic muse,  \n",
      "In thee, the wanderer's spirit finds its rest,  \n",
      "Yet in thy fury, the heart learns to lose.  \n",
      "\n",
      "So sing, oh sea, thy requiem for fate,  \n",
      "In every swell, a tale of love and loss,  \n",
      "For we, like sailors, navigate through hate,  \n",
      "Adrift on waves of hope, in tempest tossed.  \n",
      "\n",
      "With thee we dream of distant, dusky shores,  \n",
      "Where laughter mingles with the salt and spray,  \n",
      "Yet know that love, like thee, forever roars,  \n",
      "A restless tide that sweeps our hearts away.  \n",
      "\n",
      "Thus dance, thou glorious sea, in moon's embrace,  \n",
      "A paradox of freedom, bound so tight,  \n",
      "In your embrace, I seek the sacred space,  \n",
      "Where time dissolves into the endless night.  \n",
      " ===================================\n",
      "Upon the restless deep where waves do dance,  \n",
      "The sea, that mistress wild, doth weave romances.  \n",
      "With azure robes and a tempestuous heart,  \n",
      "In her embrace, both peace and chaos part.  \n",
      "\n",
      "Her whispers soft as moonlight on the shore,  \n",
      "When gentle tides caress the sands once more,  \n",
      "Yet lo! When fury stirs her slumbering might,  \n",
      "She rages forth, a tempest in the night.  \n",
      "\n",
      "With foamy crown, she hurls her wrath so bold,  \n",
      "A tale of shipwrecks and of sailors told.  \n",
      "The gulls, like spirits, cry in mournful tune,  \n",
      "A dirge for mariners who meet their doom.  \n",
      "\n",
      "Yet still, the sailors crave her fierce allure,  \n",
      "To chart the depths, where treasures may endure.  \n",
      "For in her arms, they find both dread and glee,  \n",
      "The perilous bond betwixt man and sea.  \n",
      "\n",
      "O noble sea! Thy beauty doth entice,  \n",
      "A siren’s song, a fickle paradise.  \n",
      "In depths unknown, where mysteries abound,  \n",
      "Thy secrets lie, in shadows ever bound.  \n",
      "\n",
      "So let the poets sing thy boundless grace,  \n",
      "For thou, O sea, dost wear a wondrous face.  \n",
      "With every wave, a story yet untold,  \n",
      "In thee, the dreams of ages long unfold.  \n",
      "\n",
      "Time taken: 13.419050931930542\n"
     ]
    }
   ],
   "source": [
    "# In constract to the above, this will run the two streams sequentially.\n",
    "\n",
    "start = time.time()\n",
    "\n",
    "vh = llm.chat.stream(\n",
    "    [\"In the style of Victor Hugo, write a poem about the sea.\"])\n",
    "async for chunk in vh:\n",
    "  print(chunk.content, end=\"\")\n",
    "\n",
    "print(\"\\n\", \"=\" * 35)\n",
    "\n",
    "sh = llm.chat.stream(\n",
    "    [\"In the sytle of Shakespeare, write a poem about the sea.\"])\n",
    "async for chunk in sh:\n",
    "  print(chunk.content, end=\"\")\n",
    "\n",
    "print(\"\\n\\nTime taken:\", time.time() - start)"
   ]
  },
  {
   "cell_type": "code",
   "execution_count": null,
   "metadata": {},
   "outputs": [],
   "source": []
  }
 ],
 "metadata": {
  "kernelspec": {
   "display_name": "python3",
   "language": "python",
   "name": "python3"
  }
 },
 "nbformat": 4,
 "nbformat_minor": 4
}
