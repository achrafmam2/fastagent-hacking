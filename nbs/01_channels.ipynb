{
 "cells": [
  {
   "cell_type": "markdown",
   "metadata": {},
   "source": [
    "# Channels\n",
    "\n",
    "> Channel data structure."
   ]
  },
  {
   "cell_type": "code",
   "execution_count": null,
   "metadata": {},
   "outputs": [],
   "source": [
    "%load_ext autoreload\n",
    "%autoreload 2"
   ]
  },
  {
   "cell_type": "code",
   "execution_count": null,
   "metadata": {},
   "outputs": [],
   "source": [
    "#| default_exp channels"
   ]
  },
  {
   "cell_type": "code",
   "execution_count": null,
   "metadata": {},
   "outputs": [],
   "source": [
    "#| export\n",
    "\n",
    "import abc\n",
    "import dataclasses\n",
    "import enum\n",
    "import json\n",
    "import time\n",
    "import uuid\n",
    "from typing import Any, Generic, TypeVar\n",
    "\n",
    "import fastagent_hacking.streams as sx"
   ]
  },
  {
   "cell_type": "code",
   "execution_count": null,
   "metadata": {},
   "outputs": [],
   "source": [
    "#| hide\n",
    "from nbdev.showdoc import *"
   ]
  },
  {
   "cell_type": "code",
   "execution_count": null,
   "metadata": {},
   "outputs": [],
   "source": [
    "from fastcore.test import *"
   ]
  },
  {
   "cell_type": "markdown",
   "metadata": {},
   "source": [
    "## Packets"
   ]
  },
  {
   "cell_type": "code",
   "execution_count": null,
   "metadata": {},
   "outputs": [],
   "source": [
    "#| export\n",
    "\n",
    "_T = TypeVar('T')\n",
    "\n",
    "\n",
    "class PacketType(enum.StrEnum):\n",
    "  MAIN = enum.auto()\n",
    "  LOG_PACKET = enum.auto()\n",
    "  EVENT_PACKET = enum.auto()\n",
    "\n",
    "\n",
    "@dataclasses.dataclass(frozen=True)\n",
    "class Packet(Generic[_T]):\n",
    "  \"\"\"Represents a unit of data inside a Channel\n",
    "  \n",
    "  Attributes:\n",
    "    payload: The data that the packet carries\n",
    "    packet_type: The type of the packet\n",
    "    packet_id: ID for the packet.\n",
    "    parent_packet_id: ID of the packet that spawned this packet.\n",
    "    stamp: An ID that corrolates a packet to its producer. \n",
    "        It's unique per invocation of the producer.\n",
    "    created_at: The time the packet was created in milliseconds.\n",
    "  \"\"\"\n",
    "  payload: _T\n",
    "  packet_type: PacketType\n",
    "  packet_id: str\n",
    "  parent_packet_id: str\n",
    "  stamp: str\n",
    "  created_at: float\n",
    "\n",
    "  def to_json(self):\n",
    "    return json.dumps(\n",
    "        self,\n",
    "        default=lambda o: o.__dict__,\n",
    "        sort_keys=True,\n",
    "        indent=2,\n",
    "    )\n",
    "\n",
    "  @classmethod\n",
    "  def from_json(cls, json_str):\n",
    "    return cls(**json.loads(json_str))\n"
   ]
  },
  {
   "cell_type": "code",
   "execution_count": null,
   "metadata": {},
   "outputs": [],
   "source": [
    "p = Packet(\n",
    "    payload=1,\n",
    "    packet_type=PacketType.MAIN,\n",
    "    packet_id='1',\n",
    "    parent_packet_id='1',\n",
    "    stamp='1',\n",
    "    created_at=1,\n",
    ")\n",
    "\n",
    "test_eq(p, Packet.from_json(p.to_json()))"
   ]
  },
  {
   "cell_type": "markdown",
   "metadata": {},
   "source": [
    "## Channels\n"
   ]
  },
  {
   "cell_type": "code",
   "execution_count": null,
   "metadata": {},
   "outputs": [],
   "source": [
    "#| export\n",
    "\n",
    "\n",
    "class Channel(sx.Stream[Packet[Any]], Generic[_T]):\n",
    "\n",
    "  @property\n",
    "  @abc.abstractmethod\n",
    "  def elm_type(self) -> type[_T]:\n",
    "    \"\"\"Main type of the elements in the channel\"\"\"\n",
    "\n",
    "\n",
    "def as_chan(s: sx.Stream[Packet[Any]], elm_type: type[_T]) -> Channel[_T]:\n",
    "  \"\"\"Coerce a stream of packets to a channel. Do not use `s` after this function.\"\"\"\n",
    "\n",
    "  class _ChanStream(Channel[_T]):\n",
    "\n",
    "    @property\n",
    "    def elm_type(self) -> type[_T]:\n",
    "      return elm_type\n",
    "\n",
    "    async def next(self, *args, **kwargs):\n",
    "      return await s.next(*args, **kwargs)\n",
    "\n",
    "  return _ChanStream()"
   ]
  },
  {
   "cell_type": "code",
   "execution_count": null,
   "metadata": {},
   "outputs": [],
   "source": [
    "#| export\n",
    "\n",
    "\n",
    "class ChannelWriter(sx.StreamWriter[Packet[Any]], Generic[_T]):\n",
    "  elm_type: type[_T]  # Main packet payload type of the channel\n",
    "\n",
    "  @abc.abstractmethod\n",
    "  def readonly(self) -> Channel[_T]:\n",
    "    \"\"\"Return a readonly version of the channel\"\"\"\n",
    "\n",
    "\n",
    "def as_chan_writer(\n",
    "    s: sx.StreamWriter[Packet[Any]],\n",
    "    elm_type: type[_T],\n",
    ") -> ChannelWriter[_T]:\n",
    "  \"\"\"Coerce a stream writer of packets to a channel writer. Do not use `s` after this function.\"\"\"\n",
    "\n",
    "  class _ChanWriter(ChannelWriter[_T]):\n",
    "\n",
    "    @property\n",
    "    def elm_type(self) -> type[_T]:\n",
    "      return elm_type\n",
    "\n",
    "    async def put(self, *args, **kwargs):\n",
    "      assert all(isinstance(a, Packet) for a in args)\n",
    "      await s.put(*args, **kwargs)\n",
    "\n",
    "    async def shutdown(self, *args, **kwargs):\n",
    "      await s.shutdown(*args, **kwargs)\n",
    "\n",
    "    def readonly(self, *args, **kwargs) -> Channel[_T]:\n",
    "      return as_chan(s.readonly(*args, **kwargs), elm_type)\n",
    "\n",
    "  return _ChanWriter()"
   ]
  },
  {
   "cell_type": "markdown",
   "metadata": {},
   "source": [
    "### Channel tests"
   ]
  },
  {
   "cell_type": "code",
   "execution_count": null,
   "metadata": {},
   "outputs": [],
   "source": [
    "def fake_packet(payload) -> Packet:\n",
    "  return Packet(\n",
    "      payload=payload,\n",
    "      packet_type=PacketType.MAIN,\n",
    "      packet_id='1',\n",
    "      parent_packet_id='1',\n",
    "      stamp='1',\n",
    "      created_at=1,\n",
    "  )"
   ]
  },
  {
   "cell_type": "code",
   "execution_count": null,
   "metadata": {},
   "outputs": [],
   "source": [
    "chan = as_chan(\n",
    "    sx.of(\n",
    "        fake_packet(1),\n",
    "        fake_packet(\"a\"),\n",
    "    ),\n",
    "    int,\n",
    ")\n",
    "\n",
    "test_eq(isinstance(chan, Channel), True)\n",
    "test_eq(chan.elm_type, int)\n",
    "\n",
    "ps = []\n",
    "async for p in chan:\n",
    "  ps.append(p)\n",
    "test_eq(ps, [fake_packet(1), fake_packet(\"a\")])"
   ]
  },
  {
   "cell_type": "code",
   "execution_count": null,
   "metadata": {},
   "outputs": [],
   "source": [
    "chan_writer = as_chan_writer(sx.InMemStreamWriter(), str)\n",
    "\n",
    "test_eq(isinstance(chan_writer, ChannelWriter), True)\n",
    "test_eq(chan_writer.elm_type, str)\n",
    "\n",
    "await chan_writer.put(\n",
    "  fake_packet(\"a\"),\n",
    "  fake_packet(\"b\"),\n",
    ")\n",
    "await chan_writer.shutdown()\n",
    "\n",
    "ps = []\n",
    "chan = chan_writer.readonly()\n",
    "async for p in chan:\n",
    "  ps.append(p)\n",
    "test_eq(ps, [fake_packet(\"a\"), fake_packet(\"b\")])"
   ]
  },
  {
   "cell_type": "code",
   "execution_count": null,
   "metadata": {},
   "outputs": [],
   "source": [
    "c0 = as_chan(sx.of(fake_packet(0), fake_packet(1)), int)\n",
    "c1 = as_chan(sx.of(fake_packet(2), fake_packet(3)), int)\n",
    "\n",
    "ps = []\n",
    "async for payload in sx.concat(c0, c1):\n",
    "  ps.append(payload)\n",
    "\n",
    "test_eq(ps, [fake_packet(i) for i in range(4)])"
   ]
  },
  {
   "cell_type": "markdown",
   "metadata": {},
   "source": [
    "### Send to channels"
   ]
  },
  {
   "cell_type": "code",
   "execution_count": null,
   "metadata": {},
   "outputs": [],
   "source": [
    "#| export\n",
    "\n",
    "\n",
    "async def send(payload: _T, chan: ChannelWriter[_T]):\n",
    "  p = Packet(\n",
    "      payload=payload,\n",
    "      packet_type=PacketType.MAIN,\n",
    "      packet_id=str(uuid.uuid4()),\n",
    "      parent_packet_id=str(uuid.uuid4()),\n",
    "      stamp='',  # FIXME: Add stamp\n",
    "      created_at=time.time(),\n",
    "  )\n",
    "  await chan.put(p)"
   ]
  },
  {
   "cell_type": "markdown",
   "metadata": {},
   "source": [
    "#### Send test"
   ]
  },
  {
   "cell_type": "code",
   "execution_count": null,
   "metadata": {},
   "outputs": [],
   "source": [
    "chan = as_chan_writer(sx.InMemStreamWriter(), int)\n",
    "\n",
    "await send(1, chan)\n",
    "await send(2, chan)\n",
    "await send(3, chan)\n",
    "await chan.shutdown()\n",
    "\n",
    "chan = chan.readonly()\n",
    "\n",
    "packets = await sx.tolist(chan)\n",
    "\n",
    "test_eq(all(isinstance(p, Packet) for p in packets), True)\n",
    "test_eq([p.payload for p in packets], [1, 2, 3])"
   ]
  },
  {
   "cell_type": "code",
   "execution_count": null,
   "metadata": {},
   "outputs": [],
   "source": [
    "#| hide\n",
    "import nbdev\n",
    "\n",
    "nbdev.nbdev_export()"
   ]
  }
 ],
 "metadata": {
  "kernelspec": {
   "display_name": "python3",
   "language": "python",
   "name": "python3"
  }
 },
 "nbformat": 4,
 "nbformat_minor": 2
}
